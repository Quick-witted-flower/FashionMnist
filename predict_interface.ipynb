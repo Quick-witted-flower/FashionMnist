{
 "cells": [
  {
   "cell_type": "code",
   "execution_count": 11,
   "id": "e5afb3e0-d946-454c-b84c-08c1eff60cb2",
   "metadata": {},
   "outputs": [
    {
     "name": "stdout",
     "output_type": "stream",
     "text": [
      "Wczytano dane: X_train: (54000, 28, 28, 1), X_test: (6000, 28, 28, 1)\n"
     ]
    }
   ],
   "source": [
    "import numpy as np\n",
    "import tensorflow as tf\n",
    "from tensorflow.keras.datasets import fashion_mnist\n",
    "from sklearn.model_selection import train_test_split\n",
    "\n",
    "#  Załadowanie zestawu Fashion-MNIST\n",
    "(train_images, train_labels), (test_images, test_labels) = fashion_mnist.load_data()\n",
    "\n",
    "#  Normalizacja (0-1)\n",
    "train_images = train_images / 255.0\n",
    "test_images = test_images / 255.0\n",
    "\n",
    "# Konwersja etykiet na format one-hot encoding\n",
    "num_classes = 10\n",
    "train_labels = tf.keras.utils.to_categorical(train_labels, num_classes)\n",
    "test_labels = tf.keras.utils.to_categorical(test_labels, num_classes)\n",
    "\n",
    "#  Podział zbioru na treningowy i testowy\n",
    "X_train, X_test, y_train, y_test = train_test_split(\n",
    "    train_images, train_labels, test_size=0.1, random_state=10, stratify=train_labels\n",
    ")\n",
    "\n",
    "#  Dodanie wymiaru kanału (dla CNN)\n",
    "X_train = X_train[..., np.newaxis]\n",
    "X_test = X_test[..., np.newaxis]\n",
    "\n",
    "print(f\"Wczytano dane: X_train: {X_train.shape}, X_test: {X_test.shape}\")\n"
   ]
  },
  {
   "cell_type": "code",
   "execution_count": 13,
   "id": "693605de-8e56-490e-93bd-a881437586a2",
   "metadata": {},
   "outputs": [
    {
     "name": "stdout",
     "output_type": "stream",
     "text": [
      "<class 'numpy.ndarray'> (6000, 28, 28, 1)\n",
      "<class 'numpy.ndarray'> (6000, 10)\n"
     ]
    }
   ],
   "source": [
    "print(type(X_test), X_test.shape)\n",
    "print(type(y_test), y_test.shape)\n"
   ]
  },
  {
   "cell_type": "code",
   "execution_count": 15,
   "id": "c2a51954-3a31-4139-85cd-ca618f39f731",
   "metadata": {},
   "outputs": [
    {
     "data": {
      "image/png": "[encoded data removed]",
      "text/plain": [
       "<Figure size 640x480 with 1 Axes>"
      ]
     },
     "metadata": {},
     "output_type": "display_data"
    },
    {
     "name": "stdout",
     "output_type": "stream",
     "text": [
      "Przewidziana etykieta: Sneaker\n",
      "Prawdziwa etykieta: Sneaker\n"
     ]
    }
   ],
   "source": [
    "import numpy as np\n",
    "import tensorflow as tf\n",
    "import matplotlib.pyplot as plt\n",
    "\n",
    "# Wczytanie modelu\n",
    "def load_trained_model():\n",
    "    model = tf.keras.models.load_model(\"model_fashion_mnist_augmented_final5.h5\")\n",
    "    return model\n",
    "\n",
    "# Klasy Fashion-MNIST\n",
    "class_names = [\n",
    "    \"T-shirt/top\", \"Trouser\", \"Pullover\", \"Dress\", \"Coat\",\n",
    "    \"Sandal\", \"Shirt\", \"Sneaker\", \"Bag\", \"Ankle boot\"\n",
    "]\n",
    "\n",
    "#  Funkcja predykcji\n",
    "def predict_and_show(image_index, X_test, y_test):\n",
    "    model = load_trained_model()\n",
    "\n",
    "    # Pobranie obrazu i prawdziwej etykiety\n",
    "    image = X_test[image_index]\n",
    "    true_label = np.argmax(y_test[image_index])\n",
    "\n",
    "    # Przetworzenie obrazu dla modelu\n",
    "    image_input = np.expand_dims(image, axis=0)  \n",
    "    prediction = model.predict(image_input)  \n",
    "    predicted_label = np.argmax(prediction)  \n",
    "\n",
    "    #  Wyświetlenie obrazu i wyniku predykcji\n",
    "    plt.imshow(image.squeeze(), cmap=\"gray\")\n",
    "    plt.title(f\"True: {class_names[true_label]} | Predicted: {class_names[predicted_label]}\")\n",
    "    plt.axis(\"off\")\n",
    "    plt.show()\n",
    "\n",
    "    print(f\"Przewidziana etykieta: {class_names[predicted_label]}\")\n",
    "    print(f\"Prawdziwa etykieta: {class_names[true_label]}\")\n",
    "\n",
    "#  Test działania\n",
    "predict_and_show(0, X_test, y_test)  # Przetestuj predykcję dla pierwszego obrazu\n"
   ]
  },
  {
   "cell_type": "code",
   "execution_count": null,
   "id": "bca9c0fa-aa49-4035-947c-d80862989bd0",
   "metadata": {},
   "outputs": [],
   "source": []
  }
 ],
 "metadata": {
  "kernelspec": {
   "display_name": "Python (ttf2.2)",
   "language": "python",
   "name": "ttf2.2"
  },
  "language_info": {
   "codemirror_mode": {
    "name": "ipython",
    "version": 3
   },
   "file_extension": ".py",
   "mimetype": "text/x-python",
   "name": "python",
   "nbconvert_exporter": "python",
   "pygments_lexer": "ipython3",
   "version": "3.7.12"
  }
 },
 "nbformat": 4,
 "nbformat_minor": 5
}
